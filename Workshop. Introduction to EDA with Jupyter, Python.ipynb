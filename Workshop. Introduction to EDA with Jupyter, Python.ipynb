{
 "cells": [
  {
   "cell_type": "markdown",
   "id": "fe8fd895",
   "metadata": {},
   "source": [
    "# Что мы будем делать?\n",
    "Посмотрим пример того, как с помощью Python и библиотек DS-стека делать развезодочный анализ данных (EDA).\n",
    "\n",
    "<b>Разведочный анализ данных (Exploratory Data Analysis, EDA)</b> относится к критическому процессу выполнения первоначальных исследований данных с целью обнаружения закономерностей, выявления аномалий, проверки гипотез и предположений с помощью сводной статистики и графических представлений.\n",
    "\n",
    "В качестве датасета для экспериментов возьмем табличные данные о сделках по продаже недвижимости https://www.kaggle.com/competitions/sberbank-russian-housing-market"
   ]
  },
  {
   "cell_type": "markdown",
   "id": "beec285f",
   "metadata": {},
   "source": [
    "## Раздел 1: импортируем библиотеки Python и загружаем табличные данные\n",
    "\n",
    "[pandas](https://pandas.pydata.org/) - библиотека для анализа и манипуляций с данными\n",
    "\n",
    "[seaborn](https://seaborn.pydata.org/index.html) - библиотека для визуализации статистических данных\n",
    "\n",
    "[scipy](https://docs.scipy.org/doc/scipy/tutorial/general.html) - библиотека для статистического анализа"
   ]
  },
  {
   "cell_type": "code",
   "execution_count": null,
   "id": "4c0faee9",
   "metadata": {},
   "outputs": [],
   "source": [
    "#!pip install seaborn"
   ]
  },
  {
   "cell_type": "code",
   "execution_count": null,
   "id": "b147199a",
   "metadata": {},
   "outputs": [],
   "source": [
    "#Импортируем необходимые для работы библиотеки\n",
    "import pandas as pd\n",
    "import seaborn as sns\n",
    "import matplotlib.pyplot as plt\n",
    "import scipy\n",
    "import os\n",
    "\n",
    "pd.set_option('display.max_columns', 500)"
   ]
  },
  {
   "cell_type": "code",
   "execution_count": null,
   "id": "2049cf01",
   "metadata": {},
   "outputs": [],
   "source": [
    "#Какие файлы в директории data?\n",
    "os.listdir('data')"
   ]
  },
  {
   "cell_type": "code",
   "execution_count": null,
   "id": "eaebee7a",
   "metadata": {},
   "outputs": [],
   "source": [
    "#загружаем датафрейм в память из файла\n",
    "dataframe = pd.read_csv(filepath_or_buffer='data/train.csv')"
   ]
  },
  {
   "cell_type": "code",
   "execution_count": null,
   "id": "e13c35ec",
   "metadata": {},
   "outputs": [],
   "source": [
    "#размеры таблицы с данными\n",
    "dataframe.shape"
   ]
  },
  {
   "cell_type": "code",
   "execution_count": null,
   "id": "f01361e9",
   "metadata": {},
   "outputs": [],
   "source": [
    "dataframe.info(memory_usage='deep')"
   ]
  },
  {
   "cell_type": "code",
   "execution_count": null,
   "id": "0e1ce63e",
   "metadata": {},
   "outputs": [],
   "source": [
    "#первые 2 строчки датафрейма\n",
    "dataframe.head(2)"
   ]
  },
  {
   "cell_type": "code",
   "execution_count": null,
   "id": "4ff1571e",
   "metadata": {},
   "outputs": [],
   "source": [
    "use_cols = ['id', 'timestamp', 'full_sq', 'floor', 'num_room', 'kitch_sq', 'park_km', 'kremlin_km', 'sub_area', 'price_doc']\n",
    "\n",
    "dataframe = dataframe = pd.read_csv(filepath_or_buffer='data/train.csv', usecols=use_cols)\n",
    "\n",
    "#размер таблицы сильно уменьшился\n",
    "dataframe.info(memory_usage='deep')"
   ]
  },
  {
   "cell_type": "code",
   "execution_count": null,
   "id": "9b18948a",
   "metadata": {},
   "outputs": [],
   "source": [
    "dataframe.shape"
   ]
  },
  {
   "cell_type": "code",
   "execution_count": null,
   "id": "00d3ce18",
   "metadata": {},
   "outputs": [],
   "source": [
    "dataframe.sample(2)"
   ]
  },
  {
   "cell_type": "code",
   "execution_count": null,
   "id": "84ee52b7",
   "metadata": {},
   "outputs": [],
   "source": [
    "#можно обращаться к конкретным столбцам таблицы через список \n",
    "dataframe[['timestamp', 'sub_area']].head(2)"
   ]
  },
  {
   "cell_type": "markdown",
   "id": "7189a747",
   "metadata": {},
   "source": [
    "## Раздел 2: есть ли рост средней стоимости квартиры и квадратного времени с течением времени?\n",
    "\n",
    "Посмотрим динамику двух параметров: \n",
    "- динамику медианной цены квартиры по годам\n",
    "- динамику средней цены квадратного метра по годам\n",
    "\n",
    "Создадим в датафрейме новый вычисляемый столбец - <b>год</b> на основе <b>timestamp</b> сделки:"
   ]
  },
  {
   "cell_type": "code",
   "execution_count": null,
   "id": "7492bf22",
   "metadata": {},
   "outputs": [],
   "source": [
    "dataframe['year'] = dataframe['timestamp'].apply(pd.to_datetime).dt.year"
   ]
  },
  {
   "cell_type": "code",
   "execution_count": null,
   "id": "74c8b198",
   "metadata": {},
   "outputs": [],
   "source": [
    "dataframe[['timestamp', 'year']].sample(3)"
   ]
  },
  {
   "cell_type": "markdown",
   "id": "59d757e1",
   "metadata": {},
   "source": [
    "Дополнительно создадим вычислимый столбец с ценой квадратного метра по формуле:\n",
    "$$ meterprice= \\frac{price\\_doc}{full\\_sq} $$"
   ]
  },
  {
   "cell_type": "code",
   "execution_count": null,
   "id": "4a25c209",
   "metadata": {},
   "outputs": [],
   "source": [
    "dataframe['meter_price'] = dataframe['price_doc']/dataframe['full_sq']"
   ]
  },
  {
   "cell_type": "code",
   "execution_count": null,
   "id": "1a20c8f8",
   "metadata": {},
   "outputs": [],
   "source": [
    "dataframe[['year','meter_price', 'full_sq', 'price_doc']].sample(3)"
   ]
  },
  {
   "cell_type": "markdown",
   "id": "6fd5fa1b",
   "metadata": {},
   "source": [
    "Группируем записи по году сделки, используя функцию groupby. \n",
    "\n",
    "Затем к группированным значениям применяем агрегирующие функции count, median, mean."
   ]
  },
  {
   "cell_type": "code",
   "execution_count": null,
   "id": "d2487ba5",
   "metadata": {},
   "outputs": [],
   "source": [
    "dataframe.groupby('year').agg({'price_doc' : ['median', 'count'], 'meter_price' : ['mean']})"
   ]
  },
  {
   "cell_type": "markdown",
   "id": "ae130d8b",
   "metadata": {},
   "source": [
    "Почему за 2014 год средняя цена квадратного метра имеет значение NaN? Выясним:"
   ]
  },
  {
   "cell_type": "code",
   "execution_count": null,
   "id": "8c7e1cef",
   "metadata": {},
   "outputs": [],
   "source": [
    "dataframe[(dataframe.year == 2014) & (dataframe.full_sq == 0)]"
   ]
  },
  {
   "cell_type": "markdown",
   "id": "e031c03a",
   "metadata": {},
   "source": [
    "Причина в нулевой площади, нужно почистить некорректные данные. \n",
    "\n",
    "Всегда нужно оценивать, насколько бизнес-данные совпадают с логикой, и если что-то не сходится - следует исследовать причины."
   ]
  },
  {
   "cell_type": "code",
   "execution_count": null,
   "id": "effe4e9c",
   "metadata": {},
   "outputs": [],
   "source": [
    "df_price_grouped = dataframe[dataframe.full_sq > 0]\\\n",
    ".groupby('year').agg({'price_doc' : ['median', 'count'], 'meter_price' : ['mean', 'median']})\n",
    "\n",
    "df_price_grouped"
   ]
  },
  {
   "cell_type": "markdown",
   "id": "a94e7a3e",
   "metadata": {},
   "source": [
    "Построим график средней цены квадратного метра в динамике 2011-2015 помесячно:"
   ]
  },
  {
   "cell_type": "code",
   "execution_count": null,
   "id": "28971db1",
   "metadata": {},
   "outputs": [],
   "source": [
    "dataframe['Year_month'] = dataframe['timestamp'].apply(pd.to_datetime).dt.strftime('%Y-%m')\n",
    "\n",
    "df_monthly_price = dataframe.groupby('Year_month')[['meter_price']].mean().reset_index()\n",
    "\n",
    "df_monthly_price.head(2)"
   ]
  },
  {
   "cell_type": "code",
   "execution_count": null,
   "id": "e3c63e40",
   "metadata": {},
   "outputs": [],
   "source": [
    "plt.figure(figsize=(20,8))\n",
    "sns.set_theme(style=\"darkgrid\")\n",
    "plot = sns.lineplot(x='Year_month', y='meter_price', data=df_monthly_price)\n",
    "plt.xticks(rotation=45)\n",
    "\n",
    "plt.title('Цена квадратного метра в динамике лет')\n",
    "plt.show()"
   ]
  },
  {
   "cell_type": "markdown",
   "id": "608c4977",
   "metadata": {},
   "source": [
    "## Раздел 3: визуализация распределений. \n",
    "\n",
    "Как еще можно посмотреть динамику и распределение цен, кроме как линейным графиком? Подойдет отличный графический инструмент для распределений - \"ящик с усами\" [(boxplot)](https://ru.wikipedia.org/wiki/%D0%AF%D1%89%D0%B8%D0%BA_%D1%81_%D1%83%D1%81%D0%B0%D0%BC%D0%B8).\n",
    "\n",
    "![title](boxplot.png)\n"
   ]
  },
  {
   "cell_type": "code",
   "execution_count": null,
   "id": "3f7f968d",
   "metadata": {},
   "outputs": [],
   "source": [
    "plt.figure(figsize=(12,6))\n",
    "sns.boxplot(data=dataframe, x='year', y='meter_price', showfliers = False)\n",
    "\n",
    "plt.title('Цена квадратного метра в динамике лет')\n",
    "plt.show()"
   ]
  },
  {
   "cell_type": "code",
   "execution_count": null,
   "id": "9d3f81fd",
   "metadata": {},
   "outputs": [],
   "source": [
    "plt.figure(figsize=(12,6))\n",
    "sns.boxplot(data=dataframe[dataframe.num_room.isin([1,2,3])], \n",
    "            x='num_room', \n",
    "            y='meter_price', \n",
    "            showfliers = False, \n",
    "            hue='year')\n",
    "\n",
    "plt.title('Цена квадратного метра в динамике лет')\n",
    "plt.show()"
   ]
  },
  {
   "cell_type": "code",
   "execution_count": null,
   "id": "76a1f60f",
   "metadata": {},
   "outputs": [],
   "source": [
    "plt.figure(figsize=(12,6))\n",
    "sns.boxplot(data=dataframe[dataframe.num_room.isin([1,2,3])], \n",
    "            x='year', \n",
    "            y='meter_price', \n",
    "            showfliers = True, \n",
    "            hue='num_room')\n",
    "\n",
    "plt.title('Цена квадратного метра в динамике лет')\n",
    "plt.show()"
   ]
  },
  {
   "cell_type": "markdown",
   "id": "61f0fda1",
   "metadata": {},
   "source": [
    "<b>Вывод:</b> Скачок средних цен в 2014 году связан с большим количеством аномалий (выбросов) в данных"
   ]
  },
  {
   "cell_type": "markdown",
   "id": "89f34372",
   "metadata": {},
   "source": [
    "## Раздел 4: а что со статистикой по районам?\n",
    "Нам помогут:\n",
    "- топ значения в категориях\n",
    "- сводные таблицы [pivot](https://pandas.pydata.org/docs/reference/api/pandas.DataFrame.pivot.html)"
   ]
  },
  {
   "cell_type": "code",
   "execution_count": null,
   "id": "303fb301",
   "metadata": {},
   "outputs": [],
   "source": [
    "dataframe['sub_area'].value_counts()[:20]"
   ]
  },
  {
   "cell_type": "code",
   "execution_count": null,
   "id": "539a35f7",
   "metadata": {},
   "outputs": [],
   "source": [
    "dataframe['sub_area'].value_counts(normalize=True)[:20]"
   ]
  },
  {
   "cell_type": "code",
   "execution_count": null,
   "id": "017fbfea",
   "metadata": {},
   "outputs": [],
   "source": [
    "sub_list = list(dataframe['sub_area'].value_counts(normalize=True)[:10].index)"
   ]
  },
  {
   "cell_type": "code",
   "execution_count": null,
   "id": "85406e1b",
   "metadata": {},
   "outputs": [],
   "source": [
    "dataframe[(dataframe.sub_area.isin(sub_list))]\\\n",
    ".groupby(['sub_area', 'year'])[['price_doc']].median()\\\n",
    ".reset_index().pivot_table(columns=['sub_area'], values='price_doc', index='year')"
   ]
  },
  {
   "cell_type": "markdown",
   "id": "e45909c9",
   "metadata": {},
   "source": [
    "## Раздел 5: правда ли, что 1-комнатные квартиры в двух соседних районах статистически значимо различаются по площади?\n",
    "\n",
    "Нам поможет метод проверки статистической значимости гипотез.\n",
    "\n",
    "Возьмем 2 района (Poselenie Sosenskoe, Poselenie Moskovskij) и 1-шки в нем за 2013 год, будем проверять различия распределений пллощадей квартир."
   ]
  },
  {
   "cell_type": "code",
   "execution_count": null,
   "id": "57943888",
   "metadata": {},
   "outputs": [],
   "source": [
    "df = dataframe[(dataframe.year==2013) \\\n",
    "               & (dataframe.sub_area.isin(['Poselenie Moskovskij', 'Poselenie Sosenskoe'])) \\\n",
    "               & (dataframe.num_room == 1)]"
   ]
  },
  {
   "cell_type": "code",
   "execution_count": null,
   "id": "ac2688a7",
   "metadata": {},
   "outputs": [],
   "source": [
    "df.sub_area.value_counts()"
   ]
  },
  {
   "cell_type": "code",
   "execution_count": null,
   "id": "27fb2bc1",
   "metadata": {},
   "outputs": [],
   "source": [
    "df.groupby('sub_area')[['full_sq']].agg(['mean'])"
   ]
  },
  {
   "cell_type": "code",
   "execution_count": null,
   "id": "ab02b75c",
   "metadata": {},
   "outputs": [],
   "source": [
    "_, p_value = scipy.stats.mannwhitneyu(x=df[df.sub_area == 'Poselenie Moskovskij'].full_sq.values,\n",
    "                         y=df[df.sub_area == 'Poselenie Sosenskoe'].full_sq.values,\n",
    "                         alternative='greater')"
   ]
  },
  {
   "cell_type": "code",
   "execution_count": null,
   "id": "11e145f8",
   "metadata": {},
   "outputs": [],
   "source": [
    "alpha = 0.05 #уровень значимости критерия\n",
    "print(round(p_value, 4))\n",
    "if p_value < alpha:\n",
    "    print(\"\"\"Отклоняем гипотезу о раввенстве площадей, \\nпринимаем альтернативу - в Московском поселении квартиры больше\"\"\")\n",
    "else:\n",
    "    print(\"\"\"Нет оснований отвергнуть гипотезу о равенстве площадей\"\"\")"
   ]
  }
 ],
 "metadata": {
  "kernelspec": {
   "display_name": "Python 3 (ipykernel)",
   "language": "python",
   "name": "python3"
  },
  "language_info": {
   "codemirror_mode": {
    "name": "ipython",
    "version": 3
   },
   "file_extension": ".py",
   "mimetype": "text/x-python",
   "name": "python",
   "nbconvert_exporter": "python",
   "pygments_lexer": "ipython3",
   "version": "3.9.5"
  }
 },
 "nbformat": 4,
 "nbformat_minor": 5
}
